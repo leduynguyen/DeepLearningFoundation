{
 "cells": [
  {
   "cell_type": "code",
   "execution_count": 2,
   "metadata": {
    "collapsed": true
   },
   "outputs": [],
   "source": [
    "import numpy as np\n",
    "\n",
    "# Input data\n",
    "x = np.array([[0,0,1], \n",
    "             [0,1,1],\n",
    "             [1,0,1],\n",
    "             [1,1,1]])\n",
    "\n",
    "y = np.array([[0],\n",
    "             [1],\n",
    "             [1],\n",
    "             [0]])"
   ]
  },
  {
   "cell_type": "code",
   "execution_count": 3,
   "metadata": {
    "collapsed": false
   },
   "outputs": [
    {
     "name": "stdout",
     "output_type": "stream",
     "text": [
      "[[0 0 1]\n",
      " [0 1 1]\n",
      " [1 0 1]\n",
      " [1 1 1]]\n"
     ]
    }
   ],
   "source": [
    "print(x)"
   ]
  },
  {
   "cell_type": "code",
   "execution_count": 4,
   "metadata": {
    "collapsed": false
   },
   "outputs": [
    {
     "name": "stdout",
     "output_type": "stream",
     "text": [
      "[[0]\n",
      " [1]\n",
      " [1]\n",
      " [0]]\n"
     ]
    }
   ],
   "source": [
    "print(y)"
   ]
  },
  {
   "cell_type": "code",
   "execution_count": 5,
   "metadata": {
    "collapsed": true
   },
   "outputs": [],
   "source": [
    "# Build the model\n",
    "num_epochs = 60000\n",
    "\n",
    "# Initialize the weights in range [-1:1]\n",
    "syn0 = 2*np.random.random((3,4)) - 1\n",
    "syn1 = 2*np.random.random((4,1)) - 1"
   ]
  },
  {
   "cell_type": "code",
   "execution_count": 6,
   "metadata": {
    "collapsed": false
   },
   "outputs": [
    {
     "name": "stdout",
     "output_type": "stream",
     "text": [
      "[[ 0.63990834 -0.18948874  0.5919501   0.7796155 ]\n",
      " [-0.05476144 -0.90641784 -0.03868696  0.42041879]\n",
      " [ 0.36586295  0.38881293 -0.95634443  0.19341471]]\n"
     ]
    }
   ],
   "source": [
    "print(syn0)"
   ]
  },
  {
   "cell_type": "code",
   "execution_count": 7,
   "metadata": {
    "collapsed": false
   },
   "outputs": [
    {
     "name": "stdout",
     "output_type": "stream",
     "text": [
      "[[-0.41537545]\n",
      " [ 0.410286  ]\n",
      " [-0.43709096]\n",
      " [ 0.49657617]]\n"
     ]
    }
   ],
   "source": [
    "print(syn1)"
   ]
  },
  {
   "cell_type": "code",
   "execution_count": 9,
   "metadata": {
    "collapsed": false
   },
   "outputs": [],
   "source": [
    "def nonlin(x, derivate=False):\n",
    "    if (derivate == True):\n",
    "        return x*(1-x)\n",
    "    else:\n",
    "        return 1/(1+np.exp(-x))"
   ]
  },
  {
   "cell_type": "code",
   "execution_count": 12,
   "metadata": {
    "collapsed": false
   },
   "outputs": [
    {
     "name": "stdout",
     "output_type": "stream",
     "text": [
      "Error 0.49927608605\n",
      "Error 0.000499680233264\n",
      "Error 0.000231853614877\n",
      "Error 0.000149942253272\n",
      "Error 0.000110528381435\n",
      "Error 8.74165938282e-05\n"
     ]
    }
   ],
   "source": [
    "# Training\n",
    "for i in range(num_epochs):\n",
    "    # Feed forward to input layer\n",
    "    input_layer = x\n",
    "    hidden_layer = nonlin(np.dot(input_layer, syn0))\n",
    "    output_layer = nonlin(np.dot(hidden_layer, syn1))\n",
    "    \n",
    "    # Backpropagation\n",
    "    output_error = y - output_layer\n",
    "    output_delta = output_error*nonlin(ouput_layer, derivate=True)\n",
    "    \n",
    "    hidden_error = np.dot(output_delta, syn1.T)\n",
    "    hidden_delta = hidden_error*nonlin(hidden_layer, derivate=True)\n",
    "    \n",
    "    # How much did we miss the target\n",
    "    if (i%10000)==0:\n",
    "        print(\"Error\", str(np.mean(np.abs(output_error))))\n",
    "    \n",
    "    # Update the weight\n",
    "    syn1 += np.dot(hidden_layer.T, output_delta)\n",
    "    syn0 += np.dot(input_layer.T, hidden_delta)\n",
    "    "
   ]
  }
 ],
 "metadata": {
  "anaconda-cloud": {},
  "kernelspec": {
   "display_name": "Python [conda root]",
   "language": "python",
   "name": "conda-root-py"
  },
  "language_info": {
   "codemirror_mode": {
    "name": "ipython",
    "version": 3
   },
   "file_extension": ".py",
   "mimetype": "text/x-python",
   "name": "python",
   "nbconvert_exporter": "python",
   "pygments_lexer": "ipython3",
   "version": "3.5.3"
  }
 },
 "nbformat": 4,
 "nbformat_minor": 2
}

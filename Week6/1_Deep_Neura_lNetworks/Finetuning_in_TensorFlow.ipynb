{
 "cells": [
  {
   "cell_type": "code",
   "execution_count": 4,
   "metadata": {
    "collapsed": false
   },
   "outputs": [
    {
     "name": "stdout",
     "output_type": "stream",
     "text": [
      "Save Weigths: \n",
      " weights_0:0\n",
      "Save Bias: \n",
      " bias_0:0\n"
     ]
    }
   ],
   "source": [
    "import tensorflow as tf\n",
    "\n",
    "# Remove all the previous graph\n",
    "tf.reset_default_graph()\n",
    "\n",
    "# Path file to save data\n",
    "save_file = \"./tuning_model.ckpt\"\n",
    "\n",
    "weights = tf.Variable(tf.truncated_normal([2,3]), name='weights_0')\n",
    "bias = tf.Variable(tf.truncated_normal([3]), name='bias_0')\n",
    "\n",
    "saver = tf.train.Saver()\n",
    "\n",
    "print(\"Save Weigths: \\n {}\".format(weights.name))\n",
    "print(\"Save Bias: \\n {}\".format(bias.name))\n",
    "\n",
    "with tf.Session() as sess:\n",
    "    sess.run(tf.global_variables_initializer())    \n",
    "    saver.save(sess, save_file)"
   ]
  },
  {
   "cell_type": "code",
   "execution_count": 6,
   "metadata": {
    "collapsed": false
   },
   "outputs": [
    {
     "name": "stdout",
     "output_type": "stream",
     "text": [
      "Save Weigths: \n",
      " weights_0:0\n",
      "Save Bias: \n",
      " bias_0:0\n",
      "Load weights and bias are done!\n"
     ]
    }
   ],
   "source": [
    "# Remove all the previous graph\n",
    "tf.reset_default_graph()\n",
    "\n",
    "weigths = tf.Variable(tf.truncated_normal([2,3]), name='weights_0')\n",
    "bias = tf.Variable(tf.truncated_normal([3]), name='bias_0')\n",
    "\n",
    "saver = tf.train.Saver()\n",
    "\n",
    "print(\"Save Weigths: \\n {}\".format(weights.name))\n",
    "print(\"Save Bias: \\n {}\".format(bias.name))\n",
    "\n",
    "with tf.Session() as sess:\n",
    "    saver.restore(sess, save_file)\n",
    "    \n",
    "print(\"Load weights and bias are done!\")"
   ]
  }
 ],
 "metadata": {
  "anaconda-cloud": {},
  "kernelspec": {
   "display_name": "Python [conda root]",
   "language": "python",
   "name": "conda-root-py"
  },
  "language_info": {
   "codemirror_mode": {
    "name": "ipython",
    "version": 3
   },
   "file_extension": ".py",
   "mimetype": "text/x-python",
   "name": "python",
   "nbconvert_exporter": "python",
   "pygments_lexer": "ipython3",
   "version": "3.5.3"
  }
 },
 "nbformat": 4,
 "nbformat_minor": 2
}

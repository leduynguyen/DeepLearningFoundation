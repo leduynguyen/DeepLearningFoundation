{
 "cells": [
  {
   "cell_type": "markdown",
   "metadata": {},
   "source": [
    "## 1. Save TensorFlow Trained Model"
   ]
  },
  {
   "cell_type": "code",
   "execution_count": 1,
   "metadata": {
    "collapsed": false,
    "scrolled": true
   },
   "outputs": [
    {
     "name": "stdout",
     "output_type": "stream",
     "text": [
      "Extracting ./train-images-idx3-ubyte.gz\n",
      "Extracting ./train-labels-idx1-ubyte.gz\n",
      "Extracting ./t10k-images-idx3-ubyte.gz\n",
      "Extracting ./t10k-labels-idx1-ubyte.gz\n"
     ]
    }
   ],
   "source": [
    "import tensorflow as tf\n",
    "import numpy as np\n",
    "import math\n",
    "from tensorflow.examples.tutorials.mnist import input_data\n",
    "\n",
    "# Reset the graph\n",
    "tf.reset_default_graph()\n",
    "\n",
    "# Load the MNIST database\n",
    "mnist = input_data.read_data_sets('.', one_hot=True)"
   ]
  },
  {
   "cell_type": "code",
   "execution_count": 2,
   "metadata": {
    "collapsed": false
   },
   "outputs": [
    {
     "name": "stdout",
     "output_type": "stream",
     "text": [
      "Epoch: 10  - Validation Accuracy: 0.3034000098705292\n",
      "Epoch: 20  - Validation Accuracy: 0.44040000438690186\n",
      "Epoch: 30  - Validation Accuracy: 0.5296000242233276\n",
      "Epoch: 40  - Validation Accuracy: 0.5824000239372253\n",
      "Epoch: 50  - Validation Accuracy: 0.6287999749183655\n",
      "Epoch: 60  - Validation Accuracy: 0.6593999862670898\n",
      "Epoch: 70  - Validation Accuracy: 0.6826000213623047\n",
      "Epoch: 80  - Validation Accuracy: 0.7016000151634216\n",
      "Epoch: 90  - Validation Accuracy: 0.7174000144004822\n",
      "Epoch: 100 - Validation Accuracy: 0.7293999791145325\n",
      "Train model already saved\n"
     ]
    }
   ],
   "source": [
    "# The path for saving file\n",
    "save_file = './train_model.ckpt'\n",
    "\n",
    "# Training parameters\n",
    "learning_rate = 0.001\n",
    "n_input = 784 # MNIST input data\n",
    "n_class = 10  # Total MNIST class\n",
    "batch_size = 128\n",
    "n_epochs = 100\n",
    "\n",
    "# 1. Features and Labels\n",
    "features = tf.placeholder(tf.float32, [None, n_input])\n",
    "labels = tf.placeholder(tf.float32, [None, n_class])\n",
    "\n",
    "# 2. Weights and bias\n",
    "weights = tf.Variable(tf.random_normal([n_input, n_class]))\n",
    "bias = tf.Variable(tf.random_normal([n_class]))\n",
    "\n",
    "# 3. Logits - xW+b\n",
    "logits = tf.add(tf.matmul(features, weights), bias)\n",
    "\n",
    "# 4. Define cost and optimizer\n",
    "cost = tf.reduce_mean(tf.nn.softmax_cross_entropy_with_logits(logits=logits, labels=labels))\n",
    "optimizer = tf.train.GradientDescentOptimizer(learning_rate=learning_rate).minimize(cost)\n",
    "\n",
    "# 5. Caculate the accuracy \n",
    "correct_prediction = tf.equal(tf.argmax(logits, 1), tf.argmax(labels, 1))\n",
    "accuracy = tf.reduce_mean(tf.cast(correct_prediction, tf.float32))\n",
    "\n",
    "# Create saver\n",
    "saver = tf.train.Saver()\n",
    "\n",
    "with tf.Session() as sess:\n",
    "    sess.run(tf.global_variables_initializer())\n",
    "\n",
    "    for epoch in range(1, n_epochs+1):\n",
    "        total_batch = math.ceil(mnist.train.num_examples/batch_size)\n",
    "        \n",
    "        for batch in range(total_batch):\n",
    "            batch_feature, batch_label = mnist.train.next_batch(batch_size)\n",
    "            sess.run(optimizer, feed_dict={features:batch_feature, labels:batch_label})\n",
    "\n",
    "        if epoch%10 == 0:\n",
    "            valid_accuracy = sess.run(accuracy, \n",
    "                                      feed_dict={features:mnist.validation.images, \n",
    "                                                 labels:mnist.validation.labels})\n",
    "            print('Epoch: {:<3} - Validation Accuracy: {}'.format(epoch, valid_accuracy))\n",
    "    \n",
    "    # Save the model\n",
    "    saver.save(sess, save_file)\n",
    "    print('Train model already saved')"
   ]
  },
  {
   "cell_type": "markdown",
   "metadata": {},
   "source": [
    "## 2.Load Trained model"
   ]
  },
  {
   "cell_type": "code",
   "execution_count": 3,
   "metadata": {
    "collapsed": false
   },
   "outputs": [
    {
     "name": "stdout",
     "output_type": "stream",
     "text": [
      "Test accuracy: 0.7297999858856201\n"
     ]
    }
   ],
   "source": [
    "# Rest the graph and previous computation\n",
    "saver = tf.train.Saver()\n",
    "\n",
    "# Launch the graph\n",
    "with tf.Session() as sess:\n",
    "    saver.restore(sess, save_file)\n",
    "    \n",
    "    test_accuracy = sess.run(accuracy, \n",
    "                             feed_dict={features:mnist.test.images,\n",
    "                                        labels:mnist.test.labels})\n",
    "    print(\"Test accuracy: {}\".format(test_accuracy))"
   ]
  }
 ],
 "metadata": {
  "anaconda-cloud": {},
  "kernelspec": {
   "display_name": "Python [conda root]",
   "language": "python",
   "name": "conda-root-py"
  },
  "language_info": {
   "codemirror_mode": {
    "name": "ipython",
    "version": 3
   },
   "file_extension": ".py",
   "mimetype": "text/x-python",
   "name": "python",
   "nbconvert_exporter": "python",
   "pygments_lexer": "ipython3",
   "version": "3.5.3"
  }
 },
 "nbformat": 4,
 "nbformat_minor": 2
}

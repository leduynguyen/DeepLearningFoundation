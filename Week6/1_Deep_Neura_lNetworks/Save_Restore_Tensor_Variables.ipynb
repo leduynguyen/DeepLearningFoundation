{
 "cells": [
  {
   "cell_type": "markdown",
   "metadata": {},
   "source": [
    "## 1. Save TensorFlow Variables"
   ]
  },
  {
   "cell_type": "code",
   "execution_count": 1,
   "metadata": {
    "collapsed": false
   },
   "outputs": [
    {
     "name": "stdout",
     "output_type": "stream",
     "text": [
      "Weights:\n",
      "[[ 0.56385857 -0.62494588 -0.06487752]\n",
      " [-0.54834282  1.11871111 -1.24532354]]\n",
      "Bias: \n",
      "\n",
      "[ 1.15863836 -1.6544224   0.09405582]\n"
     ]
    }
   ],
   "source": [
    "import tensorflow as tf\n",
    "\n",
    "# The path to save the data\n",
    "save_file = \"./model.ckpt\"\n",
    "\n",
    "# Tensor weights and bias\n",
    "weights = tf.Variable(tf.truncated_normal([2,3]))\n",
    "bias = tf.Variable(tf.truncated_normal([3]))\n",
    "\n",
    "# Class to save and restore tensor\n",
    "saver = tf.train.Saver()\n",
    "\n",
    "with tf.Session() as sess:\n",
    "    sess.run(tf.global_variables_initializer())\n",
    "    \n",
    "    print(\"Weights:\")\n",
    "    print(sess.run(weights))\n",
    "    print(\"Bias: \\n\")\n",
    "    print(sess.run(bias))\n",
    "    \n",
    "    # Save the model\n",
    "    saver.save(sess, save_file)"
   ]
  },
  {
   "cell_type": "markdown",
   "metadata": {},
   "source": [
    "## 2.Load Tensor Variable back into new model\n",
    "\n",
    "> Dont nedd to call the ***sess.run(tf.global_variables_initializer())***"
   ]
  },
  {
   "cell_type": "code",
   "execution_count": 2,
   "metadata": {
    "collapsed": false
   },
   "outputs": [
    {
     "name": "stdout",
     "output_type": "stream",
     "text": [
      "Weights: \n",
      "[[ 0.56385857 -0.62494588 -0.06487752]\n",
      " [-0.54834282  1.11871111 -1.24532354]]\n",
      "Bias: \n",
      "\n",
      "[ 1.15863836 -1.6544224   0.09405582]\n"
     ]
    }
   ],
   "source": [
    "# Remove the previous variables\n",
    "tf.reset_default_graph()\n",
    "\n",
    "# Create new weight and bias\n",
    "weights = tf.Variable(tf.truncated_normal([2,3]))\n",
    "bias = tf.Variable(tf.truncated_normal([3]))\n",
    "\n",
    "# Class to save or restore tensor variable\n",
    "saver = tf.train.Saver()\n",
    "\n",
    "with tf.Session() as sess:\n",
    "    # Load the weights and bias run in the save_file\n",
    "    saver.restore(sess, save_file)\n",
    "    \n",
    "    print(\"Weights: \")\n",
    "    print(sess.run(weights))\n",
    "    print(\"Bias: \\n\") \n",
    "    print(sess.run(bias))"
   ]
  }
 ],
 "metadata": {
  "anaconda-cloud": {},
  "kernelspec": {
   "display_name": "Python [conda root]",
   "language": "python",
   "name": "conda-root-py"
  },
  "language_info": {
   "codemirror_mode": {
    "name": "ipython",
    "version": 3
   },
   "file_extension": ".py",
   "mimetype": "text/x-python",
   "name": "python",
   "nbconvert_exporter": "python",
   "pygments_lexer": "ipython3",
   "version": "3.5.3"
  }
 },
 "nbformat": 4,
 "nbformat_minor": 2
}

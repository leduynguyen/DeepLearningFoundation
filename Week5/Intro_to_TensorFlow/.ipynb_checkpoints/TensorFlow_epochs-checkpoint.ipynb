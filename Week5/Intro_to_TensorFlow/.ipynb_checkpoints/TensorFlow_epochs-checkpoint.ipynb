{
 "cells": [
  {
   "cell_type": "markdown",
   "metadata": {},
   "source": [
    "Define the function"
   ]
  },
  {
   "cell_type": "code",
   "execution_count": 1,
   "metadata": {
    "collapsed": false
   },
   "outputs": [],
   "source": [
    "def batches(batch_size, features, labels):\n",
    "    \"\"\"\n",
    "    Create a batch\n",
    "    \"\"\"\n",
    "    assert len(features)==len(labels)\n",
    "    batch_output = []\n",
    "    \n",
    "    for idx in range(0, len(features), batch_size):\n",
    "        batch_output.append([features[idx:idx+batch_size], labels[idx:idx+batch_size]])\n",
    "        \n",
    "    return batch_output"
   ]
  },
  {
   "cell_type": "code",
   "execution_count": 2,
   "metadata": {
    "collapsed": true
   },
   "outputs": [],
   "source": [
    "def print_epoch_stats(epoch_i, sess, last_features, last_labels):\n",
    "    \"\"\"\n",
    "    Print cost and validation accuracy of an epoch\n",
    "    \"\"\"\n",
    "    current_cost = sess.run(cost, feed_dict={features:last_features, labels:last_labels})\n",
    "    validate_accuracy = sess.run(accuracy, feed_dict={features:last_features, labels:last_labels})\n",
    "    print('Epoch: {:<4} - Cost: {:<8.3} - Validate accuracy: {:<5.3}'.format(epoch_i, current_cost, validate_accuracy))    "
   ]
  },
  {
   "cell_type": "markdown",
   "metadata": {},
   "source": [
    "Import module"
   ]
  },
  {
   "cell_type": "code",
   "execution_count": 3,
   "metadata": {
    "collapsed": true
   },
   "outputs": [],
   "source": [
    "import tensorflow as tf\n",
    "from tensorflow.examples.tutorials.mnist import input_data\n",
    "import numpy as np"
   ]
  },
  {
   "cell_type": "code",
   "execution_count": 4,
   "metadata": {
    "collapsed": false
   },
   "outputs": [
    {
     "name": "stdout",
     "output_type": "stream",
     "text": [
      "Extracting ./datasets/ud730/mnist/train-images-idx3-ubyte.gz\n",
      "Extracting ./datasets/ud730/mnist/train-labels-idx1-ubyte.gz\n",
      "Extracting ./datasets/ud730/mnist/t10k-images-idx3-ubyte.gz\n",
      "Extracting ./datasets/ud730/mnist/t10k-labels-idx1-ubyte.gz\n"
     ]
    }
   ],
   "source": [
    "mnist = input_data.read_data_sets('./datasets/ud730/mnist/', one_hot=True)"
   ]
  },
  {
   "cell_type": "code",
   "execution_count": 16,
   "metadata": {
    "collapsed": true
   },
   "outputs": [],
   "source": [
    "n_inputs = 784\n",
    "n_classes = 10\n",
    "batch_size = 128\n",
    "learn_rate = 0.001\n",
    "epochs = 90"
   ]
  },
  {
   "cell_type": "code",
   "execution_count": 6,
   "metadata": {
    "collapsed": true
   },
   "outputs": [],
   "source": [
    "# Split data to training set, validation set and test set\n",
    "train_features = mnist.train.images\n",
    "validation_features = mnist.validation.images\n",
    "test_features = mnist.test.images\n",
    "\n",
    "train_labels = mnist.train.labels.astype(np.float32)\n",
    "validation_labels = mnist.validation.labels.astype(np.float32)\n",
    "test_labels = mnist.test.labels.astype(np.float32)"
   ]
  },
  {
   "cell_type": "code",
   "execution_count": 7,
   "metadata": {
    "collapsed": true
   },
   "outputs": [],
   "source": [
    "# Feature and label\n",
    "features = tf.placeholder(tf.float32, [None, n_inputs])\n",
    "labels = tf.placeholder(tf.float32, [None, n_classes])\n",
    "\n",
    "# Weights and bias\n",
    "weights = tf.Variable(tf.random_normal([n_inputs, n_classes]))\n",
    "bias = tf.Variable(tf.random_normal([n_classes]))\n",
    "\n",
    "# Logist = xW+b\n",
    "logits = tf.add(tf.matmul(features, weights), bias)\n",
    "\n",
    "# Learning rate\n",
    "learning_rate = tf.placeholder(tf.float32)\n",
    "\n",
    "cost = tf.reduce_mean(tf.nn.softmax_cross_entropy_with_logits(logits=logits, labels=labels))\n",
    "optimizer = tf.train.GradientDescentOptimizer(learning_rate=learning_rate).minimize(cost)"
   ]
  },
  {
   "cell_type": "code",
   "execution_count": 8,
   "metadata": {
    "collapsed": true
   },
   "outputs": [],
   "source": [
    "# Calculate the accuracy\n",
    "correct_prediction = tf.equal(tf.argmax(logits, 1), tf.argmax(labels, 1))\n",
    "accuracy = tf.reduce_mean(tf.cast(correct_prediction, tf.float32))"
   ]
  },
  {
   "cell_type": "code",
   "execution_count": 9,
   "metadata": {
    "collapsed": true
   },
   "outputs": [],
   "source": [
    "# Init the variable tensor\n",
    "init = tf.global_variables_initializer()\n",
    "\n",
    "# Seperate data into a patch with patch size = 128 samples\n",
    "train_batches = batches(batch_size, train_features, train_labels)"
   ]
  },
  {
   "cell_type": "code",
   "execution_count": 17,
   "metadata": {
    "collapsed": false
   },
   "outputs": [
    {
     "name": "stdout",
     "output_type": "stream",
     "text": [
      "Epoch: 0    - Cost: 11.9     - Validate accuracy: 0.136\n",
      "Epoch: 1    - Cost: 10.6     - Validate accuracy: 0.136\n",
      "Epoch: 2    - Cost: 9.64     - Validate accuracy: 0.136\n",
      "Epoch: 3    - Cost: 8.97     - Validate accuracy: 0.148\n",
      "Epoch: 4    - Cost: 8.44     - Validate accuracy: 0.148\n",
      "Epoch: 5    - Cost: 8.01     - Validate accuracy: 0.159\n",
      "Epoch: 6    - Cost: 7.63     - Validate accuracy: 0.159\n",
      "Epoch: 7    - Cost: 7.3      - Validate accuracy: 0.182\n",
      "Epoch: 8    - Cost: 7.0      - Validate accuracy: 0.193\n",
      "Epoch: 9    - Cost: 6.73     - Validate accuracy: 0.205\n",
      "Epoch: 10   - Cost: 6.47     - Validate accuracy: 0.205\n",
      "Epoch: 11   - Cost: 6.23     - Validate accuracy: 0.216\n",
      "Epoch: 12   - Cost: 6.0      - Validate accuracy: 0.216\n",
      "Epoch: 13   - Cost: 5.79     - Validate accuracy: 0.227\n",
      "Epoch: 14   - Cost: 5.58     - Validate accuracy: 0.239\n",
      "Epoch: 15   - Cost: 5.39     - Validate accuracy: 0.25 \n",
      "Epoch: 16   - Cost: 5.2      - Validate accuracy: 0.25 \n",
      "Epoch: 17   - Cost: 5.02     - Validate accuracy: 0.25 \n",
      "Epoch: 18   - Cost: 4.86     - Validate accuracy: 0.261\n",
      "Epoch: 19   - Cost: 4.69     - Validate accuracy: 0.261\n",
      "Epoch: 20   - Cost: 4.54     - Validate accuracy: 0.261\n",
      "Epoch: 21   - Cost: 4.4      - Validate accuracy: 0.273\n",
      "Epoch: 22   - Cost: 4.26     - Validate accuracy: 0.284\n",
      "Epoch: 23   - Cost: 4.13     - Validate accuracy: 0.307\n",
      "Epoch: 24   - Cost: 4.01     - Validate accuracy: 0.307\n",
      "Epoch: 25   - Cost: 3.9      - Validate accuracy: 0.307\n",
      "Epoch: 26   - Cost: 3.79     - Validate accuracy: 0.307\n",
      "Epoch: 27   - Cost: 3.69     - Validate accuracy: 0.307\n",
      "Epoch: 28   - Cost: 3.59     - Validate accuracy: 0.33 \n",
      "Epoch: 29   - Cost: 3.5      - Validate accuracy: 0.352\n",
      "Epoch: 30   - Cost: 3.42     - Validate accuracy: 0.352\n",
      "Epoch: 31   - Cost: 3.34     - Validate accuracy: 0.352\n",
      "Epoch: 32   - Cost: 3.26     - Validate accuracy: 0.386\n",
      "Epoch: 33   - Cost: 3.19     - Validate accuracy: 0.409\n",
      "Epoch: 34   - Cost: 3.12     - Validate accuracy: 0.42 \n",
      "Epoch: 35   - Cost: 3.06     - Validate accuracy: 0.42 \n",
      "Epoch: 36   - Cost: 2.99     - Validate accuracy: 0.432\n",
      "Epoch: 37   - Cost: 2.94     - Validate accuracy: 0.455\n",
      "Epoch: 38   - Cost: 2.88     - Validate accuracy: 0.466\n",
      "Epoch: 39   - Cost: 2.83     - Validate accuracy: 0.466\n",
      "Epoch: 40   - Cost: 2.78     - Validate accuracy: 0.477\n",
      "Epoch: 41   - Cost: 2.73     - Validate accuracy: 0.489\n",
      "Epoch: 42   - Cost: 2.68     - Validate accuracy: 0.489\n",
      "Epoch: 43   - Cost: 2.64     - Validate accuracy: 0.489\n",
      "Epoch: 44   - Cost: 2.6      - Validate accuracy: 0.489\n",
      "Epoch: 45   - Cost: 2.55     - Validate accuracy: 0.489\n",
      "Epoch: 46   - Cost: 2.52     - Validate accuracy: 0.5  \n",
      "Epoch: 47   - Cost: 2.48     - Validate accuracy: 0.5  \n",
      "Epoch: 48   - Cost: 2.44     - Validate accuracy: 0.5  \n",
      "Epoch: 49   - Cost: 2.41     - Validate accuracy: 0.511\n",
      "Epoch: 50   - Cost: 2.37     - Validate accuracy: 0.511\n",
      "Epoch: 51   - Cost: 2.34     - Validate accuracy: 0.511\n",
      "Epoch: 52   - Cost: 2.31     - Validate accuracy: 0.511\n",
      "Epoch: 53   - Cost: 2.28     - Validate accuracy: 0.523\n",
      "Epoch: 54   - Cost: 2.25     - Validate accuracy: 0.545\n",
      "Epoch: 55   - Cost: 2.22     - Validate accuracy: 0.545\n",
      "Epoch: 56   - Cost: 2.2      - Validate accuracy: 0.545\n",
      "Epoch: 57   - Cost: 2.17     - Validate accuracy: 0.568\n",
      "Epoch: 58   - Cost: 2.14     - Validate accuracy: 0.58 \n",
      "Epoch: 59   - Cost: 2.12     - Validate accuracy: 0.591\n",
      "Epoch: 60   - Cost: 2.09     - Validate accuracy: 0.591\n",
      "Epoch: 61   - Cost: 2.07     - Validate accuracy: 0.591\n",
      "Epoch: 62   - Cost: 2.05     - Validate accuracy: 0.591\n",
      "Epoch: 63   - Cost: 2.03     - Validate accuracy: 0.591\n",
      "Epoch: 64   - Cost: 2.01     - Validate accuracy: 0.602\n",
      "Epoch: 65   - Cost: 1.98     - Validate accuracy: 0.614\n",
      "Epoch: 66   - Cost: 1.96     - Validate accuracy: 0.614\n",
      "Epoch: 67   - Cost: 1.95     - Validate accuracy: 0.614\n",
      "Epoch: 68   - Cost: 1.93     - Validate accuracy: 0.625\n",
      "Epoch: 69   - Cost: 1.91     - Validate accuracy: 0.625\n",
      "Epoch: 70   - Cost: 1.89     - Validate accuracy: 0.625\n",
      "Epoch: 71   - Cost: 1.87     - Validate accuracy: 0.625\n",
      "Epoch: 72   - Cost: 1.86     - Validate accuracy: 0.625\n",
      "Epoch: 73   - Cost: 1.84     - Validate accuracy: 0.625\n",
      "Epoch: 74   - Cost: 1.82     - Validate accuracy: 0.625\n",
      "Epoch: 75   - Cost: 1.81     - Validate accuracy: 0.625\n",
      "Epoch: 76   - Cost: 1.79     - Validate accuracy: 0.625\n",
      "Epoch: 77   - Cost: 1.78     - Validate accuracy: 0.625\n",
      "Epoch: 78   - Cost: 1.76     - Validate accuracy: 0.625\n",
      "Epoch: 79   - Cost: 1.75     - Validate accuracy: 0.625\n",
      "Epoch: 80   - Cost: 1.73     - Validate accuracy: 0.625\n",
      "Epoch: 81   - Cost: 1.72     - Validate accuracy: 0.636\n",
      "Epoch: 82   - Cost: 1.71     - Validate accuracy: 0.636\n",
      "Epoch: 83   - Cost: 1.7      - Validate accuracy: 0.636\n",
      "Epoch: 84   - Cost: 1.68     - Validate accuracy: 0.636\n",
      "Epoch: 85   - Cost: 1.67     - Validate accuracy: 0.648\n",
      "Epoch: 86   - Cost: 1.66     - Validate accuracy: 0.648\n",
      "Epoch: 87   - Cost: 1.65     - Validate accuracy: 0.648\n",
      "Epoch: 88   - Cost: 1.64     - Validate accuracy: 0.648\n",
      "Epoch: 89   - Cost: 1.62     - Validate accuracy: 0.648\n",
      "Test Accuracy: 0.7178999781608582\n"
     ]
    }
   ],
   "source": [
    "with tf.Session() as sess:\n",
    "    sess.run(init)\n",
    "    \n",
    "    for epoch_i in range(epochs):\n",
    "        # Loop over the batches\n",
    "        for batch_features, label_features in train_batches:\n",
    "            sess.run(optimizer, feed_dict={features:batch_features, labels:label_features, learning_rate:learn_rate})\n",
    "        \n",
    "        print_epoch_stats(epoch_i, sess, batch_features, label_features)\n",
    "        \n",
    "    # Caculate the accuracy for test dataset\n",
    "    test_accuracy = sess.run(accuracy, feed_dict={features:test_features, labels:test_labels})\n",
    "    \n",
    "print('Test Accuracy: {}'.format(test_accuracy))"
   ]
  }
 ],
 "metadata": {
  "anaconda-cloud": {},
  "kernelspec": {
   "display_name": "Python [conda root]",
   "language": "python",
   "name": "conda-root-py"
  },
  "language_info": {
   "codemirror_mode": {
    "name": "ipython",
    "version": 3
   },
   "file_extension": ".py",
   "mimetype": "text/x-python",
   "name": "python",
   "nbconvert_exporter": "python",
   "pygments_lexer": "ipython3",
   "version": "3.5.3"
  }
 },
 "nbformat": 4,
 "nbformat_minor": 2
}

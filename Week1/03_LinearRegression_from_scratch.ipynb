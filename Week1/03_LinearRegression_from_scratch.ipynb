{
 "cells": [
  {
   "cell_type": "markdown",
   "metadata": {},
   "source": [
    "# Linear Regression from scratch\n",
    "Coding the Linear Regression model from scratch"
   ]
  },
  {
   "cell_type": "code",
   "execution_count": 16,
   "metadata": {
    "collapsed": true
   },
   "outputs": [],
   "source": [
    "import numpy as np"
   ]
  },
  {
   "cell_type": "markdown",
   "metadata": {},
   "source": [
    "## Define the function for error caculation between the point and current line"
   ]
  },
  {
   "cell_type": "code",
   "execution_count": 17,
   "metadata": {
    "collapsed": true
   },
   "outputs": [],
   "source": [
    "def compute_error_for_line_given_points(b, m, points):\n",
    "    totalError = 0\n",
    "    for i in range(0, len(points)):\n",
    "        x = points[i, 0]\n",
    "        y = points[i, 1]\n",
    "        totalError += (y - (m*x + b))**2\n",
    "    return totalError/len(points)"
   ]
  },
  {
   "cell_type": "markdown",
   "metadata": {},
   "source": [
    "## Define the function to caculate the gradien descent"
   ]
  },
  {
   "cell_type": "code",
   "execution_count": 18,
   "metadata": {
    "collapsed": true
   },
   "outputs": [],
   "source": [
    "def gradient_descent_runner(points, starting_m, starting_b, learning_rate, num_iterations):\n",
    "    # Starting points\n",
    "    m = starting_m\n",
    "    b = starting_b\n",
    "    # Gradient descent\n",
    "    for i in range(0, num_iterations):\n",
    "        # Update b & m each iteration\n",
    "        b, m = step_gradient(np.array(points), b, m, learning_rate)\n",
    "    return [b, m]"
   ]
  },
  {
   "cell_type": "code",
   "execution_count": 25,
   "metadata": {
    "collapsed": true
   },
   "outputs": [],
   "source": [
    "def step_gradient(points, b_current, m_current, learning_rate):\n",
    "    b_gradient = 0\n",
    "    m_gradient = 0\n",
    "    N = len(points)\n",
    "    \n",
    "    for i in range(0, len(points)):\n",
    "        x = points[i,0]\n",
    "        y = points[i,1]\n",
    "        # direction with b,m. Computing partial derivatives of error function\n",
    "        b_gradient += -(2/N)*(y - (m_current*x + b_current))\n",
    "        m_gradient += -(2/N)*x*(y - (m_current*x + b_current))\n",
    "        \n",
    "    # Update b and m using partial derivatives\n",
    "    new_b = b_current - (learning_rate * b_gradient)\n",
    "    new_m = m_current - (learning_rate * m_gradient)\n",
    "    \n",
    "    return [new_b, new_m]"
   ]
  },
  {
   "cell_type": "markdown",
   "metadata": {},
   "source": [
    "## Running the algorithm"
   ]
  },
  {
   "cell_type": "code",
   "execution_count": 27,
   "metadata": {
    "collapsed": false
   },
   "outputs": [
    {
     "name": "stdout",
     "output_type": "stream",
     "text": [
      "Starting gradient descent at b = 0, m = 0, error = 5565.107834483211\n",
      "Ending gradient descent at b = 0.6078985997054931, m = 1.4675440436333027, error = 112.31533427075733\n"
     ]
    }
   ],
   "source": [
    "def run():\n",
    "    # Step 1 - Collect data points\n",
    "    path_file = \"./linear_regression_live/data.csv\"\n",
    "    points = np.genfromtxt(path_file, delimiter = \",\")\n",
    "    \n",
    "    # Step 2 - Define hyper parameters\n",
    "    # converge rate\n",
    "    learning_rate = 0.0001\n",
    "    # Number of iterations\n",
    "    num_iterations = 10000\n",
    "    # Slope formula :: y = mx+b\n",
    "    initial_b = 0\n",
    "    initial_m = 0\n",
    "    \n",
    "    # Step 3 - Train the model\n",
    "    print('Starting gradient descent at b = {0}, m = {1}, error = {2}'.format(initial_b, initial_m, compute_error_for_line_given_points(initial_b, initial_m, points)))\n",
    "    [b, m] = gradient_descent_runner(points, initial_m, initial_b, learning_rate, num_iterations)\n",
    "    print('Ending gradient descent at b = {0}, m = {1}, error = {2}'.format(b, m, compute_error_for_line_given_points(b, m, points)))\n",
    "    \n",
    "run()"
   ]
  }
 ],
 "metadata": {
  "kernelspec": {
   "display_name": "Python 3",
   "language": "python",
   "name": "python3"
  },
  "language_info": {
   "codemirror_mode": {
    "name": "ipython",
    "version": 3
   },
   "file_extension": ".py",
   "mimetype": "text/x-python",
   "name": "python",
   "nbconvert_exporter": "python",
   "pygments_lexer": "ipython3",
   "version": "3.6.0"
  }
 },
 "nbformat": 4,
 "nbformat_minor": 2
}

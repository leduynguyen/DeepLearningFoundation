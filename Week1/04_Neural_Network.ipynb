{
 "cells": [
  {
   "cell_type": "markdown",
   "metadata": {},
   "source": [
    "# Neuron Network\n",
    "\n",
    "Import the modules and debug inline for debug purpose."
   ]
  },
  {
   "cell_type": "code",
   "execution_count": 1,
   "metadata": {
    "collapsed": false
   },
   "outputs": [
    {
     "name": "stdout",
     "output_type": "stream",
     "text": [
      "Automatic pdb calling has been turned ON\n"
     ]
    }
   ],
   "source": [
    "import numpy as np\n",
    "% pdb"
   ]
  },
  {
   "cell_type": "markdown",
   "metadata": {},
   "source": [
    "Define the Neural Network Class, a single neuron with 3 inputs and 1 output connection."
   ]
  },
  {
   "cell_type": "code",
   "execution_count": 5,
   "metadata": {
    "collapsed": true
   },
   "outputs": [],
   "source": [
    "# Neural Network Class\n",
    "class NeuralNetwork():\n",
    "    def __init__(self):\n",
    "        \n",
    "        # Seed the random number generator\n",
    "        np.random.seed(1)\n",
    "        \n",
    "        # Random weight 3x1 matrix, values in [-1 :1] and mean 0\n",
    "        self.weights = 2*np.random.random((3,1)) - 1\n",
    "        \n",
    "        # Activation function is sigmoid function\n",
    "        self.sigmoid = lambda x: 1/(1 - np.exp(-x))\n",
    "        \n",
    "    def __sigmoid_derivative(self, x):\n",
    "        return x*(1 - x)\n",
    "        \n",
    "    def train(self, inputs, outputs, epochs):\n",
    "        for interation in range(epochs):\n",
    "            # Caculate the value neuron output\n",
    "            inputs_outputs = np.dot(inputs, self.weights)\n",
    "            \n",
    "            # The neuron pass the activation function at the output\n",
    "            output_activation = self.sigmoid(inputs_outputs)\n",
    "            \n",
    "            # Error between the outputs and the prediction\n",
    "            error = outputs - output_activation\n",
    "            \n",
    "            # Error gradident \n",
    "            error_grad = error*self.__sigmoid_derivative(output_activation)\n",
    "            \n",
    "            # Adjusment\n",
    "            adjusments = np.dot(inputs.T, error_grad)\n",
    "            \n",
    "            # Update weights\n",
    "            self.weights += adjusments\n",
    "        \n",
    "    def predict(self, inputs):\n",
    "        return self.sigmoid(np.dot(inputs, self.weights))"
   ]
  },
  {
   "cell_type": "markdown",
   "metadata": {},
   "source": [
    "The main function train the neural network. The training data will feed with 4 examples have 3 features for training."
   ]
  },
  {
   "cell_type": "code",
   "execution_count": 6,
   "metadata": {
    "collapsed": false
   },
   "outputs": [
    {
     "name": "stdout",
     "output_type": "stream",
     "text": [
      "The weight before training - randomly\n",
      "[[-0.16595599]\n",
      " [ 0.44064899]\n",
      " [-0.99977125]]\n",
      "The weight after training\n",
      "[[ -4.65623583]\n",
      " [ -7.2506431 ]\n",
      " [-10.18678964]]\n",
      "Prediction for the new [1,0,0]:\n"
     ]
    },
    {
     "data": {
      "text/plain": [
       "array([-0.00959332])"
      ]
     },
     "execution_count": 6,
     "metadata": {},
     "output_type": "execute_result"
    }
   ],
   "source": [
    "# Initialize a single neural network\n",
    "neural_network = NeuralNetwork()\n",
    "\n",
    "# Print the weight of the neural network before the training\n",
    "print(\"The weight before training - randomly\")\n",
    "print(neural_network.weights)\n",
    "\n",
    "# Training set: 4 examples with 3 features inputs and 1 output target\n",
    "training_set_input = np.array([[0,0,1], [1,1,1], [1,0,1], [0,1,1]])\n",
    "training_set_output = np.array([[0,1,1,0]]).T\n",
    "\n",
    "# Hyperparameters for training the neural network\n",
    "epochs = 10000\n",
    "learning_rate = None\n",
    "\n",
    "# Train the neural network model\n",
    "neural_network.train(training_set_input, training_set_output, epochs)\n",
    "\n",
    "# Print the weight of the neural network afyer the training\n",
    "print(\"The weight after training\")\n",
    "print(neural_network.weights)    \n",
    "\n",
    "# Predict the testing data\n",
    "print(\"Prediction for the new [1,0,0]:\")\n",
    "neural_network.predict(np.array([1,0,0]))"
   ]
  }
 ],
 "metadata": {
  "anaconda-cloud": {},
  "kernelspec": {
   "display_name": "Python [conda root]",
   "language": "python",
   "name": "conda-root-py"
  },
  "language_info": {
   "codemirror_mode": {
    "name": "ipython",
    "version": 3
   },
   "file_extension": ".py",
   "mimetype": "text/x-python",
   "name": "python",
   "nbconvert_exporter": "python",
   "pygments_lexer": "ipython3",
   "version": "3.5.3"
  }
 },
 "nbformat": 4,
 "nbformat_minor": 2
}
